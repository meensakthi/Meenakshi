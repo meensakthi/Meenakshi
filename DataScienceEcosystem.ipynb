{
 "cells": [
  {
   "cell_type": "markdown",
   "id": "99239c59-916e-4362-838a-8d5935ff26d0",
   "metadata": {},
   "source": [
    "# Data Science Tools and Ecosystem"
   ]
  },
  {
   "cell_type": "markdown",
   "id": "ffe98c95-6527-44e8-b38b-dde9beeb4079",
   "metadata": {},
   "source": [
    "*In this notebook, Markdown and Python Code has been introduced.*"
   ]
  },
  {
   "cell_type": "markdown",
   "id": "16dbe16a-6a3c-486c-b510-18498a1bfb51",
   "metadata": {},
   "source": [
    "__Objectives:__\n",
    "\n",
    "* List popular languages for Data Science\n",
    "* Commonly used Libraries by Data Scientists\n",
    "* Data Science Tool\n",
    "* Python Code and its executions\n",
    "\n",
    "## Author\n",
    "Meenakshi Muthumanickam"
   ]
  },
  {
   "cell_type": "markdown",
   "id": "cdc0e714-7ad5-4e11-abc6-61aff88e1000",
   "metadata": {},
   "source": [
    "Some of the popular languages that Data Scientists use are:\n",
    "1. Python\n",
    "2. SQL\n",
    "3. R\n",
    "4. VBA (Visual Basic for Applications)\n",
    "5. Julia\n"
   ]
  },
  {
   "cell_type": "markdown",
   "id": "d84074b3-73b2-4979-9e32-91854ee63ccb",
   "metadata": {},
   "source": [
    "Some of the commonly used libraries used by Data Scientists include:\n",
    "\n",
    "1. TensorFlow\n",
    "2. NumPy\n",
    "3. SciPy \n",
    "4. Pandas\n",
    "5. Matplotlib"
   ]
  },
  {
   "cell_type": "markdown",
   "id": "e4e8b0be-cf45-42ad-a19a-d2033330eb39",
   "metadata": {},
   "source": [
    "| Data Science Tools |  \n",
    "| ------------------ |  \n",
    "| Jupyter Notebook | \n",
    "| IBM SPSS         |\n",
    "| Keras              |"
   ]
  },
  {
   "cell_type": "markdown",
   "id": "c36a6ab2-c15d-4cb8-ae14-ebe092d59c26",
   "metadata": {},
   "source": [
    "### Below are a few examples of evaluating arithmetic expressions in Python"
   ]
  },
  {
   "cell_type": "code",
   "execution_count": 4,
   "id": "edf35e5f-a699-46ea-a955-4459f3f436cc",
   "metadata": {},
   "outputs": [
    {
     "data": {
      "text/plain": [
       "17"
      ]
     },
     "execution_count": 4,
     "metadata": {},
     "output_type": "execute_result"
    }
   ],
   "source": [
    "# This a simple arithmetic expression to mutiply then add integers\n",
    "(3*4)+5"
   ]
  },
  {
   "cell_type": "code",
   "execution_count": 7,
   "id": "bbfd621c-d058-431b-adb9-c811ae506558",
   "metadata": {},
   "outputs": [
    {
     "data": {
      "text/plain": [
       "0    03:20\n",
       "Name: Duration, dtype: object"
      ]
     },
     "execution_count": 7,
     "metadata": {},
     "output_type": "execute_result"
    }
   ],
   "source": [
    "# This will convert 200 minutes to hours by diving by 60\n",
    "import pandas as pd\n",
    "df = pd.DataFrame({'Duration': [200]})\n",
    "pd.to_datetime(df.Duration, unit='m').dt.strftime('%H:%M')"
   ]
  },
  {
   "cell_type": "markdown",
   "id": "dd35a43a-2e7d-48c3-856d-07f8f1abd35d",
   "metadata": {},
   "source": []
  },
  {
   "cell_type": "code",
   "execution_count": null,
   "id": "1dcd65b1-c177-44c7-9a8b-7607be3926cb",
   "metadata": {},
   "outputs": [],
   "source": []
  }
 ],
 "metadata": {
  "kernelspec": {
   "display_name": "Python",
   "language": "python",
   "name": "conda-env-python-py"
  },
  "language_info": {
   "codemirror_mode": {
    "name": "ipython",
    "version": 3
   },
   "file_extension": ".py",
   "mimetype": "text/x-python",
   "name": "python",
   "nbconvert_exporter": "python",
   "pygments_lexer": "ipython3",
   "version": "3.7.12"
  }
 },
 "nbformat": 4,
 "nbformat_minor": 5
}
