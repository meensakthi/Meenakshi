{
 "cells": [
  {
   "cell_type": "markdown",
   "id": "a7d89ef4-01a7-478e-96fd-e757cd7edcd4",
   "metadata": {},
   "source": [
    "# My Jupyter Notebook on IBM Watson Studio"
   ]
  },
  {
   "cell_type": "markdown",
   "id": "2419d7b6-9894-48b3-94bc-7fea7bf469ff",
   "metadata": {},
   "source": [
    "### Meenakshi Muthumanickam\n",
    "Data Engineer"
   ]
  },
  {
   "cell_type": "markdown",
   "id": "291f90d4-ccbc-448a-94df-696468bbf9a2",
   "metadata": {},
   "source": [
    "*I am interested in Data Science because i love to work with data and to find meaningful and hidden insights from it*"
   ]
  },
  {
   "cell_type": "markdown",
   "id": "a164ed27-4227-4319-a4c6-5009c5b6d3c2",
   "metadata": {},
   "source": [
    "### Doing Arithmetic order of operations"
   ]
  },
  {
   "cell_type": "code",
   "execution_count": 2,
   "id": "a6ef107c-2f72-4bdf-862f-d1036a5a5eaf",
   "metadata": {},
   "outputs": [
    {
     "data": {
      "text/plain": [
       "0"
      ]
     },
     "execution_count": 2,
     "metadata": {},
     "output_type": "execute_result"
    }
   ],
   "source": [
    "1000 - 500 * 2"
   ]
  },
  {
   "cell_type": "markdown",
   "id": "00838603-b0f1-4c47-8e3a-a911565d8d53",
   "metadata": {},
   "source": [
    "### Cell 6 Contents - Using Markdown / HTML to include below samples\n",
    "\n",
    "1. Numbered List \n",
    "2. Strikethrough (See Below)\n",
    "3. Hyperlink (See Below)\n",
    "4. Code/Syntax Highlighting (See Below)\n",
    "5. Images (See Below)"
   ]
  },
  {
   "cell_type": "markdown",
   "id": "feae8b36-8a31-4681-a07d-21fbdf92587b",
   "metadata": {},
   "source": [
    "~~Below is the link to GitHub~~"
   ]
  },
  {
   "cell_type": "markdown",
   "id": "672ad697-be49-47e9-b1e7-be4f4e1439c2",
   "metadata": {},
   "source": [
    "<a href=\"https://github.com/adam-p/markdown-here/wiki/Markdown-Cheatsheet\">Markdown-Cheatsheet</a> "
   ]
  },
  {
   "cell_type": "markdown",
   "id": "ef29de47-0c12-4f4d-8d63-2420db41dc19",
   "metadata": {},
   "source": [
    "```Python\n",
    "Text=\"Python Syntax Highlighting\"\n",
    "print (Text)\n",
    "```"
   ]
  },
  {
   "cell_type": "markdown",
   "id": "0b941ff5-bbc1-424a-8450-516e4bdf5822",
   "metadata": {},
   "source": [
    "Here's our logo (hover to see the title text):\n",
    "\n",
    "Inline-style: \n",
    "![alt text](https://github.com/adam-p/markdown-here/raw/master/src/common/images/icon48.png \"Logo Title Text 1\")\n",
    "\n",
    "Reference-style: \n",
    "![alt text][logo]\n",
    "\n",
    "[logo]: https://github.com/adam-p/markdown-here/raw/master/src/common/images/icon48.png \"Logo Title Text 2\""
   ]
  },
  {
   "cell_type": "code",
   "execution_count": null,
   "id": "c35f7485-12cc-44a3-b955-86f23e8e0d01",
   "metadata": {},
   "outputs": [],
   "source": []
  }
 ],
 "metadata": {
  "kernelspec": {
   "display_name": "Python",
   "language": "python",
   "name": "conda-env-python-py"
  },
  "language_info": {
   "codemirror_mode": {
    "name": "ipython",
    "version": 3
   },
   "file_extension": ".py",
   "mimetype": "text/x-python",
   "name": "python",
   "nbconvert_exporter": "python",
   "pygments_lexer": "ipython3",
   "version": "3.7.12"
  }
 },
 "nbformat": 4,
 "nbformat_minor": 5
}
